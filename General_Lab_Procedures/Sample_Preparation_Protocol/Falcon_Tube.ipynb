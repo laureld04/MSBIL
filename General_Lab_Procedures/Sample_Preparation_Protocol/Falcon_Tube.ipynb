{
 "cells": [
  {
   "cell_type": "markdown",
   "metadata": {},
   "source": [
    "# **Falcon Tube Preparation**"
   ]
  },
  {
   "cell_type": "markdown",
   "metadata": {},
   "source": [
    "### All ex-vivo samples need to be prepared for placing into the MR scanner. \n",
    "### It is suggested the sample preparation occurs 1 day prior to the scan. This is to allow ample time for preparation and to allow the tissue sample to properly de-gas."
   ]
  },
  {
   "cell_type": "markdown",
   "metadata": {},
   "source": [
    "### **Placing Sample**\n",
    "#### 1. Set down an absorbent pad where you plan to work in the lab (for easier clean-up and to prevent large spills). \n",
    "#### 2. Obtain sample from refrigerator.\n",
    "<img style= \"width:600px\" src=\"vacuum_2.png\" />\n",
    "\n",
    "#### 3. \n",
    "#### 4. \n",
    "#### 5. \n",
    "#### 6. "
   ]
  },
  {
   "cell_type": "code",
   "execution_count": 1,
   "metadata": {},
   "outputs": [
    {
     "ename": "LoadError",
     "evalue": "syntax: invalid identifier name \".\"",
     "output_type": "error",
     "traceback": [
      "syntax: invalid identifier name \".\"",
      ""
     ]
    }
   ],
   "source": [
    ".rotate-180 {\n",
    "    -webkit-transform: rotate(180deg);\n",
    "        -ms-transform: rotate(180deg);\n",
    "            transform: rotate(180deg);\n",
    "}"
   ]
  },
  {
   "cell_type": "markdown",
   "metadata": {},
   "source": [
    "## **De-gasing Sample**\n",
    "### De-gasing is an important step that removes bubbles from the tissue sample prior to sampling. The reason this is important is that any bubbles can cause distortions in the sample as the air to tissue magnetic susceptibilities are very different. Below is an example of this distortion.\n",
    "![image](air_distortion.gif)\n",
    "#### 1. Select file -> New -> Study.\n",
    "\n",
    "<img src=\"sample.jpg\"/>\n",
    "\n",
    "\n",
    "\n",
    "#### 2.ffff \n",
    "#### 3. ffff\n",
    "#### 4. fff\n",
    "\n",
    "<img style= \"width:400px;\" src=\"bubbles.gif\" />"
   ]
  },
  {
   "cell_type": "markdown",
   "metadata": {},
   "source": [
    "## **Removing Sample**\n",
    "#### 1. Set down an absorbent pad where you plan to work in the lab.\n",
    "#### 2. Remove debris from top of tube (i.e PBS which will float to the top of fluorinert).\n",
    "#### 2. Pour fluorinert into fluorinert flask or fluorinert gauze flask (we reuse fluorinert). \n",
    "#### 3. Plug in the heat gun."
   ]
  },
  {
   "cell_type": "markdown",
   "metadata": {},
   "source": [
    "## **Setting Map Shims**\n",
    "## It is suggested to do this step on the same localizer from your setup. \n",
    "#### 1. Within the open localizer, select -> **SetUp**\n",
    "#### 2. Select -> **Map_Shim**\n",
    "* Many of our scans use an ellipsoid, however, this may differ depending on your protocol.\n",
    "#### 3. Set ellipsoid by manipulating the edges in the viewing region of the examination card.\n",
    "* It is suggested your shim remains within the object that is being imaged (avoid including empty space in your shim).\n",
    "#### 4. Select -> **Apply**\n",
    "#### 5. Select -> **Continue**\n",
    "* The scan will beginn running and will output 3 images from different views.\n",
    "* It is suggested that the shims are not placed till after the object has been properly placed in the scanner (from the previous **Localizer Set-Up** steps).\n"
   ]
  },
  {
   "cell_type": "markdown",
   "metadata": {},
   "source": [
    "## **Helpful Tips**\n",
    "\n",
    "#### If you are unsure of if a scan may fail or will break the scanner, it is suggested that you run a platform simulation which can be opened and run from the examination environment.\n",
    "* If the Gradient Duty Cycle is going above 20%, talk to  JP or modify your scan to reduce this. \n",
    "* **You cannot run the simulation while a scan is actively running.**\n",
    "\n",
    "#### A common practice is to calculate resolution that you want to obtain. Below is a quick equation to help facilitate this for those of us who cannot do mental math...\n",
    " $$ Resolution = \\frac{FOV}{Image Size} $$\n",
    "* This is usually carried out in the **Geometry** tab of the currently open scan in your examination.\n",
    "\n",
    "#### Ernst Angle equation also comes in handy when running T1 MDEFT, T1 FLASH scans. Below is a quick equation to help.\n",
    "![image](Ernst_Angle.png)\n",
    "* You will need to assume your T1 of the tissue you are interested in.\n"
   ]
  },
  {
   "cell_type": "markdown",
   "metadata": {},
   "source": []
  },
  {
   "cell_type": "markdown",
   "metadata": {},
   "source": []
  },
  {
   "cell_type": "markdown",
   "metadata": {},
   "source": [
    "# Relevant material\n",
    "### Need to add the Bruker Manual to this called from possibly the google drive?\n",
    "* See [Chapter 20: Magnetic Field Inhomogeneity Effects\n",
    "and T2* Dephasing](https://drive.google.com/drive/folders/1x3dYSh58EI5re0TD71yDgVI5Hmhv71Kj?usp=sharing)"
   ]
  }
 ],
 "metadata": {
  "kernelspec": {
   "display_name": "Julia 1.1.1",
   "language": "julia",
   "name": "julia-1.1"
  },
  "language_info": {
   "file_extension": ".jl",
   "mimetype": "application/julia",
   "name": "julia",
   "version": "1.1.1"
  }
 },
 "nbformat": 4,
 "nbformat_minor": 4
}

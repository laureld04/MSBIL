{
 "cells": [
  {
   "cell_type": "markdown",
   "metadata": {},
   "source": [
    "![image](bruker.PNG)"
   ]
  },
  {
   "cell_type": "markdown",
   "metadata": {},
   "source": [
    "# **Bruker General Scan Protocols**"
   ]
  },
  {
   "cell_type": "markdown",
   "metadata": {},
   "source": [
    "### Login parameters for MSBIL lab\n",
    "### **Username:** hutchinson\n",
    "### **PW:** 321MSBIL"
   ]
  },
  {
   "cell_type": "markdown",
   "metadata": {},
   "source": [
    "## **Good Practices to Do PRIOR to Starting a Scan**\n",
    "## AKA, what to do if things are not working\n",
    "#### Before running anything, especially after a long weekend... (with superstitious rain...)\n",
    "* Check that the gradients in the other room.\n",
    "*      Hint: Everything should be green (no flashing red)\n",
    "* If gradients are not green, select -> **Standby** which is found on  a small switch next to the MR scanner computer.\n",
    "* Wait for the light to turn orange\n",
    "* Once green has stopped flashing and is in **Standby**, select -> **Off**\n",
    "* All gradients in the room should now be completely off (you can check this).\n",
    "* Select -> **On**\n",
    "* Wait for the small switch changes to **Standby**.\n",
    "* Press -> **On** which will cause it to blink green.\n",
    "* Wait for the green light to stop flashing."
   ]
  },
  {
   "cell_type": "markdown",
   "metadata": {},
   "source": [
    "### Preparing Before New Study\n",
    "\n",
    "#### 1. Make sure you have your scanner set-up with the coil you plan to use. \n",
    "* Check transmit & receive (these will be plugged into the back of the MRI scanner).\n",
    "* Take care to check the pins on the connectors to prevent breaking them when inserted. \n",
    "![image](connector.png)\n",
    "* Add a receiver coil for a head if that is the ROI (or if your protocol calls for it).\n",
    "![image](reciever_coil.png)\n",
    "\n",
    "#### 2. Prepare Sample/Specimen/Patient.\n",
    "* Follow animal protocol.*not included in this procedure as it will vary depending study.\n",
    "* Set region of interest to be under the red laser. \n",
    "* Press red laser button to identify center. \n",
    "* If satisfied with center positioning, set \"A\" marker to match with the \"A^\" target marker.\n",
    "* Slowly push knob to push the region of interest into the center of the coil.\n",
    "* Check to make sure any additional receiver coil cables do not get tangled or stuck.\n",
    "* Stop pushing once the red marker matches the \"0\" on the \"B\" marker. \n",
    "* If satisfied with positioning, use \"C\" marker on opposite side to mark center position.\n",
    "* This is for in case you need to intermittently pull the sample/specimen/patient out of the center.\n"
   ]
  },
  {
   "cell_type": "markdown",
   "metadata": {},
   "source": [
    "## **Paravision 360 (on the computer)**\n",
    "#### 1. Select file -> New -> Study.\n",
    "#### 2. Fill in Animal ID, name, study name.\n",
    "* Set library to what you plan on pulling your MR battery from.\n",
    "* Suggestions: include animal ID (information on time point for injury/study progress) also include the same study name so that your scans are stored in the same region (for use later on). \n",
    "#### 3. Select -> Confirm.\n",
    "#### 4. Select -> Exam."
   ]
  },
  {
   "cell_type": "markdown",
   "metadata": {},
   "source": [
    "## **Localizer Set-Up**\n",
    "## A new window will appear, this will be where you set all of your scans during your examination.\n",
    "![image](examination_card.PNG)\n",
    "#### 1. Place a localizer into the examination region.\n",
    "\n",
    "#### 2. Select -> **Open**\n",
    "\n",
    "#### 3. Go to the Setup tab. \n",
    "* Select -> **Shim** \n",
    "* Select -> **Reset** (Need the shims reset before running the first localizer, ALWAYS DO THIS)\n",
    "#### 4. Select -> **Apply**\n",
    "#### 5. Select -> **Continue**\n",
    "#### 6. Review the coronal, sagittal, and axial images to confirm proper placement of sample or patient. \n",
    "#### 7. Assuming you did not need to modify the sample or patient placement, select -> Adjustment Platform.\n",
    "![image](examination_adjustment_platform.png)\n",
    "#### 8. Select -> **Wobble Adjustment**\n",
    "#### 9. Select -> **Setup**\n",
    "#### 10. Select -> MRI Acq/Reco Data to view the 2 coils. \n",
    "#### 11. If not centered and close to the zero y axis, go to the back of the scanner and modify using the tune and match for both coils till they are centered and closest to the y axis.\n",
    "* T moves along the x-axis\n",
    "* M moves along the y-axis\n",
    "#### 12. After centering the tune and match, return to the computer and select -> **Stop**\n",
    "#### 13. Select -> **Start**\n",
    "#### 14. Select -> **Apply**\n",
    "* Make sure to do this step or your modifications you made to the tune and match wil NOT be saved.\n",
    "#### 15. Select -> **B0**\n",
    "#### 16. Select -> **Start**\n",
    "* This scan may take a minute or two.\n",
    "#### 17. Go back to the main window for the examination."
   ]
  },
  {
   "cell_type": "markdown",
   "metadata": {},
   "source": [
    "## **Setting Map Shims**\n",
    "## It is suggested to do this step on the same localizer from your setup. \n",
    "#### 1. Within the open localizer, select -> **SetUp**\n",
    "#### 2. Select -> **Map_Shim**\n",
    "* Many of our scans use an ellipsoid, however, this may differ depending on your protocol.\n",
    "#### 3. Set ellipsoid by manipulating the edges in the viewing region of the examination card.\n",
    "* It is suggested your shim remains within the object that is being imaged (avoid including empty space in your shim).\n",
    "#### 4. Select -> **Apply**\n",
    "#### 5. Select -> **Continue**\n",
    "* The scan will beginn running and will output 3 images from different views.\n",
    "* It is suggested that the shims are not placed till after the object has been properly placed in the scanner (from the previous **Localizer Set-Up** steps).\n"
   ]
  },
  {
   "cell_type": "markdown",
   "metadata": {},
   "source": [
    "## **Helpful Tips**\n",
    "\n",
    "#### If you are unsure of if a scan may fail or will break the scanner, it is suggested that you run a platform simulation which can be opened and run from the examination environment.\n",
    "* If the Gradient Duty Cycle is going above 20%, talk to  JP or modify your scan to reduce this. \n",
    "* **You cannot run the simulation while a scan is actively running.**\n",
    "\n",
    "#### A common practice is to calculate resolution that you want to obtain. Below is a quick equation to help facilitate this for those of us who cannot do mental math...\n",
    " $$ Resolution = \\frac{FOV}{Image Size} $$\n",
    "* This is usually carried out in the **Geometry** tab of the currently open scan in your examination.\n",
    "\n",
    "#### Ernst Angle equation also comes in handy when running T1 MDEFT, T1 FLASH scans. Below is a quick equation to help.\n",
    "![image](Ernst_Angle.png)\n",
    "* You will need to assume your T1 of the tissue you are interested in.\n"
   ]
  },
  {
   "cell_type": "markdown",
   "metadata": {},
   "source": [
    "# Simulation of intravoxel dephasing effect in T2*-weighted MRI"
   ]
  },
  {
   "cell_type": "markdown",
   "metadata": {},
   "source": [
    "## Simulating MR signal acquisition: free induction decay (FID) in the rotating frame\n",
    "* The signals we receive, at any time point after an RF pulse excitation, will be the summation of all the magnetization vectors\n",
    "* The 10240 data points we acquire at time = 1 to 10240 $\\mu sec$, from a phantom comprising 10 isochromatic units, are $$ S(t) = \\sum_{n=1}^{10} phantom[n] \\ \\cdot \\exp(i2\\pi \\omega t) \\ \\cdot \\exp(-i2\\pi \\omega_{demod} t)\\cdot \\exp(-\\frac{t}{T_2}) \\\\ \\textrm{with} \\ \\ t = 1 \\    \\textrm{to} \\ 10240 \\ \\mu sec \\\\ \\textrm{with} \\ \\omega_{demod} \\ \\textrm{being the demodulation frequency} $$\n"
   ]
  },
  {
   "cell_type": "markdown",
   "metadata": {},
   "source": [
    "# Relevant material\n",
    "### Need to add the Bruker Manual to this called from possibly the google drive?\n",
    "* See [Chapter 20: Magnetic Field Inhomogeneity Effects\n",
    "and T2* Dephasing](https://drive.google.com/drive/folders/1x3dYSh58EI5re0TD71yDgVI5Hmhv71Kj?usp=sharing)"
   ]
  }
 ],
 "metadata": {
  "kernelspec": {
   "display_name": "Julia 1.4.1",
   "language": "julia",
   "name": "julia-1.4"
  },
  "language_info": {
   "file_extension": ".jl",
   "mimetype": "application/julia",
   "name": "julia",
   "version": "1.4.1"
  }
 },
 "nbformat": 4,
 "nbformat_minor": 4
}

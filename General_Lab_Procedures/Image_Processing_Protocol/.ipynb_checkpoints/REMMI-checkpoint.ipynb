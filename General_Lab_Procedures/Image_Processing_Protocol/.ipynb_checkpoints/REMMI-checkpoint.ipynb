{
 "cells": [
  {
   "cell_type": "markdown",
   "metadata": {},
   "source": [
    "![image](bruker.PNG)"
   ]
  },
  {
   "cell_type": "markdown",
   "metadata": {},
   "source": [
    "# **REMMI Image Processing**"
   ]
  },
  {
   "cell_type": "markdown",
   "metadata": {},
   "source": [
    "### You will need HPC access to complete the following procedure"
   ]
  },
  {
   "cell_type": "markdown",
   "metadata": {},
   "source": [
    "## **What is REMMI?**\n",
    "## Glad you asked!\n",
    "#### REMMI is composed of 2 very particular type of scan types: Selective Inverse Recovery (SIR) and Multi Spin Echo (MSE); both of which are acquired at the 7T Scanner\n",
    "* There are many quantitative maps that are obtained from processing these scans, a few include:\n",
    "    * Bound Pool Fraction \n",
    "    * Myelin Water Fraction"
   ]
  },
  {
   "cell_type": "code",
   "execution_count": 2,
   "metadata": {},
   "outputs": [
    {
     "ename": "LoadError",
     "evalue": "syntax: extra token \"IPython\" after end of expression",
     "output_type": "error",
     "traceback": [
      "syntax: extra token \"IPython\" after end of expression",
      ""
     ]
    }
   ],
   "source": [
    "from IPython.display import Image #used for displaying the lovely images in the protocol..."
   ]
  },
  {
   "attachments": {},
   "cell_type": "markdown",
   "metadata": {},
   "source": [
    "### How to Get Started\n",
    "\n",
    "#### 1. Log on and start a new HPC session. \n",
    "\n",
    "#### 2. Open a new terminal within the HPC desktop simulator.\n",
    "* Add a receiver coil for a head if that is the ROI (or if your protocol calls for it).\n",
    "#### 3. To start up matlab, use the following command: \n",
    "<img src ='module_load.png'>\n"
   ]
  },
  {
   "cell_type": "markdown",
   "metadata": {},
   "source": [
    "## **In Matlab...**\n",
    "#### 1. Go to /rsgrps/hutchinsone/Programming/Matlab/remmi.\n",
    "<img src ='remmi.png'>\n",
    "#### 2. Open Usermask_MSE, Usermask_SIR, remmi2nii_MSE.m and remmi2nii_SIR.m. \n",
    "* The two have been separated to allow for running them on separate workspaces to more efficiently use all cores and will save you time substantially.\n",
    "* It is HIGHLY suggested you run the 2 scripts on separate workspaces. (Start one and then switch to a new workspace for the next one, it does not matter in what order you do MSE or SIR).\n",
    "<img src ='workspace.png'>"
   ]
  },
  {
   "cell_type": "markdown",
   "metadata": {},
   "source": [
    "## **Running MSE Script**\n",
    "#### 1.Select run Usermask_MSE. You should then be prompted to enter the path to the output directory.\n",
    "#### 2. You will then be prompted to enter the path to the battery of scans (this should be located somewhere in TBIR7T in the Raw data folder).\n",
    "#### 3. You will then be prompted to enter the number of the scan folder associated with your MSE data. \n",
    "* You should know what number from your set of scans this is, if not, there is a separate Jupyter notebook on how to navigate header files to check for this value.\n",
    "#### 4. After pressing enter, this may take a few minutes to complete. You will see \"mse recon finished\".\n",
    "#### 5. You will then be prompted to enter the full path to the mask file. \n",
    "* You will need to make the mask at this step which is outlined below:\n",
    "    * Open itksnap in the HPC desktop simulator. Our itksnap is located in a singularity container and can be opened using the following code: "
   ]
  },
  {
   "cell_type": "markdown",
   "metadata": {},
   "source": [
    "## **Setting Map Shims**\n",
    "## It is suggested to do this step on the same localizer from your setup. \n",
    "#### 1. Within the open localizer, select -> **SetUp**\n",
    "#### 2. Select -> **Map_Shim**\n",
    "* Many of our scans use an ellipsoid, however, this may differ depending on your protocol.\n",
    "#### 3. Set ellipsoid by manipulating the edges in the viewing region of the examination card.\n",
    "* It is suggested your shim remains within the object that is being imaged (avoid including empty space in your shim).\n",
    "#### 4. Select -> **Apply**\n",
    "#### 5. Select -> **Continue**\n",
    "* The scan will beginn running and will output 3 images from different views.\n",
    "* It is suggested that the shims are not placed till after the object has been properly placed in the scanner (from the previous **Localizer Set-Up** steps).\n"
   ]
  },
  {
   "cell_type": "markdown",
   "metadata": {},
   "source": [
    "## **Helpful Tips**\n",
    "\n",
    "#### If you are unsure of if a scan may fail or will break the scanner, it is suggested that you run a platform simulation which can be opened and run from the examination environment.\n",
    "* If the Gradient Duty Cycle is going above 20%, talk to  JP or modify your scan to reduce this. \n",
    "* **You cannot run the simulation while a scan is actively running.**\n",
    "\n",
    "#### A common practice is to calculate resolution that you want to obtain. Below is a quick equation to help facilitate this for those of us who cannot do mental math...\n",
    " $$ Resolution = \\frac{FOV}{Image Size} $$\n",
    "* This is usually carried out in the **Geometry** tab of the currently open scan in your examination.\n",
    "\n",
    "#### Ernst Angle equation also comes in handy when running T1 MDEFT, T1 FLASH scans. Below is a quick equation to help.\n",
    "![image](Ernst_Angle.png)\n",
    "* You will need to assume your T1 of the tissue you are interested in.\n"
   ]
  },
  {
   "cell_type": "markdown",
   "metadata": {},
   "source": [
    "# Simulation of intravoxel dephasing effect in T2*-weighted MRI"
   ]
  },
  {
   "cell_type": "markdown",
   "metadata": {},
   "source": [
    "## Simulating MR signal acquisition: free induction decay (FID) in the rotating frame\n",
    "* The signals we receive, at any time point after an RF pulse excitation, will be the summation of all the magnetization vectors\n",
    "* The 10240 data points we acquire at time = 1 to 10240 $\\mu sec$, from a phantom comprising 10 isochromatic units, are $$ S(t) = \\sum_{n=1}^{10} phantom[n] \\ \\cdot \\exp(i2\\pi \\omega t) \\ \\cdot \\exp(-i2\\pi \\omega_{demod} t)\\cdot \\exp(-\\frac{t}{T_2}) \\\\ \\textrm{with} \\ \\ t = 1 \\    \\textrm{to} \\ 10240 \\ \\mu sec \\\\ \\textrm{with} \\ \\omega_{demod} \\ \\textrm{being the demodulation frequency} $$\n"
   ]
  },
  {
   "cell_type": "markdown",
   "metadata": {},
   "source": [
    "# Relevant material\n",
    "### Need to add the Bruker Manual to this called from possibly the google drive?\n",
    "* See [Chapter 20: Magnetic Field Inhomogeneity Effects\n",
    "and T2* Dephasing](https://drive.google.com/drive/folders/1x3dYSh58EI5re0TD71yDgVI5Hmhv71Kj?usp=sharing)"
   ]
  }
 ],
 "metadata": {
  "kernelspec": {
   "display_name": "Julia 1.4.1",
   "language": "julia",
   "name": "julia-1.4"
  },
  "language_info": {
   "file_extension": ".jl",
   "mimetype": "application/julia",
   "name": "julia",
   "version": "1.4.1"
  }
 },
 "nbformat": 4,
 "nbformat_minor": 4
}

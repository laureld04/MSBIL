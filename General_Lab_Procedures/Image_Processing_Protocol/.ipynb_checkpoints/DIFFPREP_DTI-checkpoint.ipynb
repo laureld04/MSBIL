{
 "cells": [
  {
   "cell_type": "markdown",
   "metadata": {},
   "source": [
    "# **DIFFPREP Protocol**\n",
    "## Why?\n",
    "### Glad you asked! \"DIFFPREP is a distortion and motion correction module in TORTOISE. When processing MR images you will commonly start with DIFFPREP for corrections.\""
   ]
  },
  {
   "cell_type": "markdown",
   "metadata": {},
   "source": [
    "#### Currently, ImportBruker DOES NOT work on HPC. Keep this in mind as you are processing your data. If you need access to a local linux box, please speak with Dr. Hutchinson."
   ]
  },
  {
   "cell_type": "markdown",
   "metadata": {},
   "source": [
    "## Pre-Steps\n",
    "### 1. Build your directory in the terminal, and make sure to use copied raw data for processing.\n",
    "* Review linux basics such as using cp, cd etc. if you are having trouble.\n",
    "### 2. In the terminal go to your new directory with the data."
   ]
  },
  {
   "cell_type": "markdown",
   "metadata": {},
   "source": [
    "## **Importing and Correcting Data**\n",
    "#### 1. Type the following command in your terminal to read information and options available: **ImportBruker** (need image)\n",
    "#### 2. Type the following command to import your blip_up & blip_down data: (need image)\n",
    "* What is the c for?\n",
    "* Blip up is the forward phase encoding of a scan while blip down is the same exact scan but with reversed phase encoding. You may not always will have both blip up and blip down, but for the purpose of this protocol both will be shown.\n",
    "* Sometimes your blip up and blip down data will be split across four scans (two blip up scans and two blip down scans). If that is the case, simply make a new folders and move the all the blip up raw data into one folder, rename the first blip up raw folder as 01, and the second as 02. Do the same for the blip down data. In other words you should have two folders (one for blip up and down) each with two sub-folders labeled as 01 and 02 corresponding to their scan order. For the ImportBruker command, you only need to input UP to the blip up/down folder containing the subfolders for the path.\n",
    "* If you want to control where InputBruker puts the output proc folder, use -o with the desired directory.\n",
    "#### 3. Change directories to the containers: **cd /rsgrps/hutchinsone/Singularity_Containers**\n",
    "#### 4. Load the singularity containers: **module load singularity** followed by **singularity run nklab-neurotools-v0.4.sif**\n",
    "* You should be able to see the entire contents of the container.\n",
    "#### 5. Type the following command to start up itksnap for visualizing your images: **singularity run nklab-neurotools-v0.4.sif itksnap**\n",
    "* Pay close attention to orientation, if you plan on utilizing a corrected and centered structural image, it is important to also orient the original images in the same directions for the later DRBUDDI step. Please refer to **reorient image** section.\n",
    "#### 6. Check the reoriented image to make sure the origin for both the blip up and blip down image matches.\n",
    "* Without this, the images may not be able to be combined in the DRBUDDI step and will error out. \n",
    "* Please refer to **change origin** section.\n",
    "#### 7. If the origins match or have been modified to now match, confirm you have a folder set up for the settings files. \n",
    "* Settings folder named **DIFF_PREP_WORK that contains the file that will be used in the DIFFPREP command is required.\n",
    "* Please refer to **DIFF_PREP_WORK Setup** section.\n",
    "#### 8. Type the following command in your terminal: DIFFPREP -i \"your_blip_up_reoriented\".list --reg_settings \"your_settings_file\".dmc \n",
    "* You will run this command twice, once for blip down image, and a second for the blip up image. Repeat depending on how many sets of blip up and down images you have."
   ]
  },
  {
   "cell_type": "markdown",
   "metadata": {},
   "source": [
    "# Relevant material\n",
    "### TORTOISE Processing Documentation from NIH\n",
    "* See [ImportBruker](https://tortoise.nibib.nih.gov/tortoise/v313/3-step1-import-data)\n",
    "* See [Coordinate Systems](https://www.slicer.org/wiki/Coordinate_systems)\n",
    "* See [More Coordinate Systems](http://www.grahamwideman.com/gw/brain/orientation/orientterms.htm)"
   ]
  },
  {
   "cell_type": "markdown",
   "metadata": {},
   "source": [
    "# Reorient Image\n",
    "#### 1. Use the following command: **ReorientImage** to set the orientation correctly.\n",
    "![image](reorient.PNG)\n",
    "#### 2. Check that the orientation has been correctly set by opening the image in itksnap.\n",
    "## The below example shows a original orientation that was then modified to RAS.\n",
    "### Original Raw Image from Scanner:\n",
    "![image](reorient_input.PNG)\n",
    "### Final Output Image from ReorientImage command:\n",
    "![image](reorient_final.PNG)\n",
    "### List of files outputted will have **reorient** associated with it.\n",
    "![image](reorient_output.PNG)"
   ]
  },
  {
   "attachments": {},
   "cell_type": "markdown",
   "metadata": {},
   "source": [
    "# Change Origin\n",
    "## Make sure that you perform the following steps after you have reoriented all of your blip up and blip down images. \n",
    "#### 1. Compare the blip up and blip down images in itksnap. \n",
    "* You can have both images open by adding the second image using the command from the file drop down menu: **Add Another Image**\n",
    "![image](add_image.PNG)\n",
    "#### 2. Select **Layer Inspector**.\n",
    "![image](layer_inspect.PNG)\n",
    "#### 3. Select the tab labeled **Info**.\n",
    "![image](info.PNG)\n",
    "#### 4. Review the values under **Origin and Orientation**.\n",
    "![image](origin.PNG)\n",
    "#### 5. Repeat same steps for the blip down image/blip up image.\n",
    "#### 6. If blip down does not match blip up, modify blip down image using the following command in the terminal: **Set4DImageOrigin**\n"
   ]
  },
  {
   "cell_type": "markdown",
   "metadata": {},
   "source": [
    "# DIFF_PREP_WORK Setup\n",
    "* The specific settings.dmc file will change based upon the animal and type of image you are processing. This specific .dmc file is for ferrets, but be aware mice will use a different settings file.\n",
    "#### 1. In your user's directory make a folder titled \"DIFF_PREP_WORK\". By doing it in the file browser GUI or by navigating in your terminal and typing: **cd /home/u26/\"your_username\"**\n",
    "#### 2. Type the following code in your terminal: **mkdir DIFF_PREP_WORK**\n",
    "#### 3. "
   ]
  }
 ],
 "metadata": {
  "kernelspec": {
   "display_name": "Julia 1.4.1",
   "language": "julia",
   "name": "julia-1.4"
  },
  "language_info": {
   "file_extension": ".jl",
   "mimetype": "application/julia",
   "name": "julia",
   "version": "1.4.1"
  }
 },
 "nbformat": 4,
 "nbformat_minor": 4
}

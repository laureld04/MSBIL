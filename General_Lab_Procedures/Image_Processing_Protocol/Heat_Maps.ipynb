{
 "cells": [
  {
   "cell_type": "markdown",
   "metadata": {},
   "source": [
    "![image](bruker.PNG)"
   ]
  },
  {
   "cell_type": "markdown",
   "metadata": {},
   "source": [
    "# **Creating Heat Maps**"
   ]
  },
  {
   "cell_type": "markdown",
   "metadata": {},
   "source": [
    "### Currently method is for use in mipav"
   ]
  },
  {
   "cell_type": "markdown",
   "metadata": {},
   "source": [
    "## Can be used for visualizing difference in before and after Gd treatment, before and after TBI etc. "
   ]
  },
  {
   "cell_type": "markdown",
   "metadata": {},
   "source": [
    "\n",
    "#### 1.Open the two images. \n",
    "#### 2. Registration \n",
    "####     a.Click on the image you want to register to another image. \n",
    "####     b.Go to Algorithms --> Registration--> Optimized Automatic Registration.\n",
    "####     c.Set the target image in Register … field.\n",
    "####     d.Set \"Degrees of freedom\" to Rigid.\n",
    "####     e.Click OK.\n",
    "#### 3.Subtraction\n",
    "####     a.Go to Utilities --> Image calculator \n",
    "####     b.Set \"Operator\" to \"subtract\".\n",
    "####     c.Set the Image to subtract under field  \"Image B\".\n",
    "####     d.Click OK.\n",
    "#### 4.Click on \"Display LookUp Table (LUT)\" (icon with bars) and choose a suiting spectrum (preferably Hot Metal LUT, as one end of the spectrum is black, and helps with the overlaying step) \n",
    "<img src = \"heat_map.png\" />\n",
    "\n",
    "#### 5.Click on \"Adjust window and level\" tool (Grayscale WL icon) and tune the min (zero) and max (depending on case) to have the best visuals. \n",
    "#### 6.Select the target image window; then go to File --> Load Image B --> From frame \n",
    "####      a.Select the window where the subtracted image is. \n",
    "####      b.Click OK\n",
    "\n"
   ]
  }
 ],
 "metadata": {
  "kernelspec": {
   "display_name": "Julia 1.1.1",
   "language": "julia",
   "name": "julia-1.1"
  },
  "language_info": {
   "file_extension": ".jl",
   "mimetype": "application/julia",
   "name": "julia",
   "version": "1.1.1"
  }
 },
 "nbformat": 4,
 "nbformat_minor": 4
}

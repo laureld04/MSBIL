{
 "cells": [
  {
   "cell_type": "markdown",
   "metadata": {},
   "source": [
    "![image](bruker.PNG)"
   ]
  },
  {
   "cell_type": "markdown",
   "metadata": {},
   "source": [
    "# **Sodium Azide Stock Solution**"
   ]
  },
  {
   "cell_type": "markdown",
   "metadata": {},
   "source": [
    "### Sodium Azide is used to prevent bacterial and fungal growth on tissue samples. \n",
    "### It is a solution used to preserve different biological tissues. It is important to keep samples when not in use in a PBS-Sodium Azide solution. It is suggested tissue samples only remain in fluorinert (non-preserving) for **less than 2-3 weeks**. After this threshold, your tissue sample is suceptible to unwanted growth that could be damaging.\n"
   ]
  },
  {
   "cell_type": "markdown",
   "metadata": {},
   "source": [
    "## **Preparation for Creating Stock Solution**\n",
    "## NOTE: This is NOT the protocol to make the solution as you need to be in a chemical hood for actual protocol (this is just to get materials that you will need with you as the chemical hood)\n",
    "####\n",
    "* Calculate the needed amount of concentration for the stock solution. \n",
    "    * 150 mg of Sodium Azide to 15 mL of DI water is what has been made previously. This is **10%**\n",
    "    * It is always highly recommended to double-check the math before starting\n",
    "* Collect the following items for the protocol \n",
    "    * Goggles/safety glasses\n",
    "    * Lab coat\n",
    "    * Nitrile gloves\n",
    "    * Face mask\n",
    "    * Paper towels\n",
    "    * 15 mL tube filled with DI water\n",
    "    * Wooden tongue depressor (DO NOT USE **metal spatulas** (\" Do not store on metal shelves or use metal items to handle sodium azide (i.e., spatulas)\")\n",
    "    * Weight scale\n",
    "    * Sodium Azide stock powder (still in bottle).\n",
    "    * Plastic/Paper weigh boats"
   ]
  },
  {
   "cell_type": "markdown",
   "metadata": {},
   "source": [
    "### Protocol for Creating Sodium Azide Stock Solution\n",
    "\n",
    "#### 1. Under a chemical hood, plug in your weight scale and set you tube of 15 mL DI water, Sodium Azide stock powder, and tongue depressor.\n",
    "#### 2. Make sure your face mask and goggles/glasses are proprely fitted to your face.\n",
    "    * Small traces of Sodium Azide in dry powder form can be highly toxic. \n",
    "#### 3. Once your area is setup, turn your weight scale on.\n",
    "#### 4. Set a empty weight boat on the scale and zero the scale.\n",
    "#### 5. Remove the cap from the sodium azide stock powder bottle.\n",
    "#### 6. Using the wooden tongue depressor, slowly pour a small amount of sodium azide onto the tongue depressor and pour it into the weigh boat.\n",
    "    * Be careful not to pour too quickly to cause powder from going into the air.\n",
    "    * Take your time on this step and continually check the scale reading to prevent adding too much powder.\n",
    "    * If for some reason some powder spills, dampen a paper towel and wipe up excess and immediately throw out the paper towel (make sure no particles from the paper towels fall as you move it to the trash). This is in instances where **small amounts** of powder falls. If the amounts are much larger, immediately seek out a lab employee as it may require more clean-up capability.\n",
    "#### 7. After you have the correct amount, close the cap of the sodium azide stock powder bottle and set aside.\n",
    "#### 8. Open the 15 mL tube of DI water.\n",
    "#### 9. Carefully create a crease on the weight boat (try not to aggravate the powder with large movements) and slowly pour powder into the 15 mL tube.\n",
    "#### 10. Close the tube and mark the tube with chemical and concentration information, date, and initials.\n",
    "#### 11. Clean space up and take all equipment used with you, disposing of any material used in the trash. \n",
    "#### 12. Either shake 15 mL mixture or place on a vortex mixer for a couple of seconds. \n",
    "    **NOTE: DO NOT DISPOSE OF SODIUM AZIDE IN SOLUTION (in liquid) DOWN THE DRAIN!**\n",
    "\n"
   ]
  },
  {
   "cell_type": "markdown",
   "metadata": {},
   "source": [
    "## **Helpful Tips**\n",
    "\n"
   ]
  },
  {
   "cell_type": "markdown",
   "metadata": {},
   "source": [
    "# Relevant material\n",
    "### Most of the protocol was fashioned from the documents below:\n",
    "* See [Sodium Azide SOP](https://depts.washington.edu/chem/admin/documents/SodiumAzideSOP.pdf)"
   ]
  },
  {
   "cell_type": "code",
   "execution_count": null,
   "metadata": {},
   "outputs": [],
   "source": []
  }
 ],
 "metadata": {
  "kernelspec": {
   "display_name": "Julia 1.1.1",
   "language": "julia",
   "name": "julia-1.1"
  },
  "language_info": {
   "file_extension": ".jl",
   "mimetype": "application/julia",
   "name": "julia",
   "version": "1.1.1"
  }
 },
 "nbformat": 4,
 "nbformat_minor": 4
}

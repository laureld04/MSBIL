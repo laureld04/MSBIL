{
 "cells": [
  {
   "cell_type": "markdown",
   "metadata": {},
   "source": [
    "![image](bruker.PNG)"
   ]
  },
  {
   "cell_type": "markdown",
   "metadata": {},
   "source": [
    "# **Transfer Files to HPC**"
   ]
  },
  {
   "cell_type": "markdown",
   "metadata": {},
   "source": [
    "### Login parameters for MSBIL lab on the Scanner Room Computer\n",
    "### **Username:** hutchinson\n",
    "### **PW:** 321MSBIL"
   ]
  },
  {
   "cell_type": "markdown",
   "metadata": {},
   "source": [
    "### After every scan, transfer the files from the scanner room computer to the HPC\n",
    "* Note: You will need some form of authentication setup to do the following steps.\n",
    "#### 1. Open a new konsole terminal on the scanner room computer.\n",
    "#### 2. cd to the desired directory that the raw scanned data is stored. \n",
    "#### 3. In the same terminal, use: scp -r \"raw_scan_folder_from scanner room computer\" username@filexfer.hpc.arizona.edu:/rsgrps/hutchinsone/Data/Raw/TBIR7T\n",
    "* For Paravision 360 2.0: \"raw_scan_folder_from_scanner_room_computer\" the data files are stored in opt/PV-360.2.0/data/hutchinson/\n"
   ]
  },
  {
   "cell_type": "markdown",
   "metadata": {},
   "source": [
    "# Relevant material\n",
    "### Material referenced below is what was used for hpc command line\n",
    "* See https://public.confluence.arizona.edu/display/UAHPC/Transferring+Files"
   ]
  }
 ],
 "metadata": {
  "kernelspec": {
   "display_name": "Python 3",
   "language": "python",
   "name": "python3"
  },
  "language_info": {
   "codemirror_mode": {
    "name": "ipython",
    "version": 3
   },
   "file_extension": ".py",
   "mimetype": "text/x-python",
   "name": "python",
   "nbconvert_exporter": "python",
   "pygments_lexer": "ipython3",
   "version": "3.7.4"
  }
 },
 "nbformat": 4,
 "nbformat_minor": 4
}
